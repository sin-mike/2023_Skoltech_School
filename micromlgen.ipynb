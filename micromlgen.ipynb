{
 "cells": [
  {
   "cell_type": "code",
   "execution_count": 11,
   "id": "04f04ceb-ac28-4b39-b131-f1b27985c769",
   "metadata": {},
   "outputs": [],
   "source": [
    "from sklearn.decomposition import PCA\n",
    "import numpy as np"
   ]
  },
  {
   "cell_type": "code",
   "execution_count": 12,
   "id": "122a2bcf-bb3a-4f15-83e5-6144fed07425",
   "metadata": {},
   "outputs": [
    {
     "data": {
      "text/html": [
       "<style>#sk-container-id-2 {color: black;background-color: white;}#sk-container-id-2 pre{padding: 0;}#sk-container-id-2 div.sk-toggleable {background-color: white;}#sk-container-id-2 label.sk-toggleable__label {cursor: pointer;display: block;width: 100%;margin-bottom: 0;padding: 0.3em;box-sizing: border-box;text-align: center;}#sk-container-id-2 label.sk-toggleable__label-arrow:before {content: \"▸\";float: left;margin-right: 0.25em;color: #696969;}#sk-container-id-2 label.sk-toggleable__label-arrow:hover:before {color: black;}#sk-container-id-2 div.sk-estimator:hover label.sk-toggleable__label-arrow:before {color: black;}#sk-container-id-2 div.sk-toggleable__content {max-height: 0;max-width: 0;overflow: hidden;text-align: left;background-color: #f0f8ff;}#sk-container-id-2 div.sk-toggleable__content pre {margin: 0.2em;color: black;border-radius: 0.25em;background-color: #f0f8ff;}#sk-container-id-2 input.sk-toggleable__control:checked~div.sk-toggleable__content {max-height: 200px;max-width: 100%;overflow: auto;}#sk-container-id-2 input.sk-toggleable__control:checked~label.sk-toggleable__label-arrow:before {content: \"▾\";}#sk-container-id-2 div.sk-estimator input.sk-toggleable__control:checked~label.sk-toggleable__label {background-color: #d4ebff;}#sk-container-id-2 div.sk-label input.sk-toggleable__control:checked~label.sk-toggleable__label {background-color: #d4ebff;}#sk-container-id-2 input.sk-hidden--visually {border: 0;clip: rect(1px 1px 1px 1px);clip: rect(1px, 1px, 1px, 1px);height: 1px;margin: -1px;overflow: hidden;padding: 0;position: absolute;width: 1px;}#sk-container-id-2 div.sk-estimator {font-family: monospace;background-color: #f0f8ff;border: 1px dotted black;border-radius: 0.25em;box-sizing: border-box;margin-bottom: 0.5em;}#sk-container-id-2 div.sk-estimator:hover {background-color: #d4ebff;}#sk-container-id-2 div.sk-parallel-item::after {content: \"\";width: 100%;border-bottom: 1px solid gray;flex-grow: 1;}#sk-container-id-2 div.sk-label:hover label.sk-toggleable__label {background-color: #d4ebff;}#sk-container-id-2 div.sk-serial::before {content: \"\";position: absolute;border-left: 1px solid gray;box-sizing: border-box;top: 0;bottom: 0;left: 50%;z-index: 0;}#sk-container-id-2 div.sk-serial {display: flex;flex-direction: column;align-items: center;background-color: white;padding-right: 0.2em;padding-left: 0.2em;position: relative;}#sk-container-id-2 div.sk-item {position: relative;z-index: 1;}#sk-container-id-2 div.sk-parallel {display: flex;align-items: stretch;justify-content: center;background-color: white;position: relative;}#sk-container-id-2 div.sk-item::before, #sk-container-id-2 div.sk-parallel-item::before {content: \"\";position: absolute;border-left: 1px solid gray;box-sizing: border-box;top: 0;bottom: 0;left: 50%;z-index: -1;}#sk-container-id-2 div.sk-parallel-item {display: flex;flex-direction: column;z-index: 1;position: relative;background-color: white;}#sk-container-id-2 div.sk-parallel-item:first-child::after {align-self: flex-end;width: 50%;}#sk-container-id-2 div.sk-parallel-item:last-child::after {align-self: flex-start;width: 50%;}#sk-container-id-2 div.sk-parallel-item:only-child::after {width: 0;}#sk-container-id-2 div.sk-dashed-wrapped {border: 1px dashed gray;margin: 0 0.4em 0.5em 0.4em;box-sizing: border-box;padding-bottom: 0.4em;background-color: white;}#sk-container-id-2 div.sk-label label {font-family: monospace;font-weight: bold;display: inline-block;line-height: 1.2em;}#sk-container-id-2 div.sk-label-container {text-align: center;}#sk-container-id-2 div.sk-container {/* jupyter's `normalize.less` sets `[hidden] { display: none; }` but bootstrap.min.css set `[hidden] { display: none !important; }` so we also need the `!important` here to be able to override the default hidden behavior on the sphinx rendered scikit-learn.org. See: https://github.com/scikit-learn/scikit-learn/issues/21755 */display: inline-block !important;position: relative;}#sk-container-id-2 div.sk-text-repr-fallback {display: none;}</style><div id=\"sk-container-id-2\" class=\"sk-top-container\"><div class=\"sk-text-repr-fallback\"><pre>PCA()</pre><b>In a Jupyter environment, please rerun this cell to show the HTML representation or trust the notebook. <br />On GitHub, the HTML representation is unable to render, please try loading this page with nbviewer.org.</b></div><div class=\"sk-container\" hidden><div class=\"sk-item\"><div class=\"sk-estimator sk-toggleable\"><input class=\"sk-toggleable__control sk-hidden--visually\" id=\"sk-estimator-id-2\" type=\"checkbox\" checked><label for=\"sk-estimator-id-2\" class=\"sk-toggleable__label sk-toggleable__label-arrow\">PCA</label><div class=\"sk-toggleable__content\"><pre>PCA()</pre></div></div></div></div></div>"
      ],
      "text/plain": [
       "PCA()"
      ]
     },
     "execution_count": 12,
     "metadata": {},
     "output_type": "execute_result"
    }
   ],
   "source": [
    "pca = PCA()\n",
    "X = np.random.randn(100, 10)\n",
    "pca.fit(X)"
   ]
  },
  {
   "cell_type": "code",
   "execution_count": 13,
   "id": "a87d0599-146b-4f9c-ac09-feb77261a488",
   "metadata": {},
   "outputs": [],
   "source": [
    "from micromlgen import port"
   ]
  },
  {
   "cell_type": "code",
   "execution_count": 14,
   "id": "b728667c-f30b-422f-bdb1-8e89d4bf06b4",
   "metadata": {},
   "outputs": [
    {
     "name": "stdout",
     "output_type": "stream",
     "text": [
      "#pragma once\n",
      "#include <cstdarg>\n",
      "namespace Eloquent {\n",
      "    namespace ML {\n",
      "        namespace Port {\n",
      "            class PCA {\n",
      "                public:\n",
      "                    /**\n",
      "                    * Apply dimensionality reduction\n",
      "                    * @warn Will override the source vector if no dest provided!\n",
      "                    */\n",
      "                    void transform(float *x, float *dest = NULL) {\n",
      "                        static float u[10] = { 0 };\n",
      "                        u[0] = dot(x,   0.142264762874  , 0.141251466719  , -0.277655327026  , 0.271436162457  , 0.250535757265  , 0.418113185569  , -0.141742962128  , -0.584342172808  , 0.405216137069  , 0.213787108798 );\n",
      "                        u[1] = dot(x,   0.168301372381  , 0.524549915193  , 0.332716406169  , -0.1931573747  , -0.48653381914  , 0.341723012095  , 0.084944599217  , -0.304742206991  , -0.287148514905  , -0.111734572798 );\n",
      "                        u[2] = dot(x,   -0.141381851601  , 0.247366512084  , 0.599063769887  , 0.144397512442  , -0.057243202086  , -0.117023883995  , -0.310437138453  , 0.227393539446  , 0.416200440842  , 0.448129132579 );\n",
      "                        u[3] = dot(x,   -0.145928079088  , 0.527067194793  , -0.214628098457  , 0.643263261713  , 0.108657851394  , -0.169000371961  , -0.169815030134  , 0.159803138578  , -0.344379448284  , -0.166473051988 );\n",
      "                        u[4] = dot(x,   -0.350889319258  , 0.044726931038  , -0.070315839967  , -0.231934004244  , -0.178232283509  , -0.433051384214  , -0.46195035623  , -0.425414840766  , 0.20742017953  , -0.399298372274 );\n",
      "                        u[5] = dot(x,   0.439728789289  , 0.199394167788  , -0.184136652584  , -0.213879704134  , 0.019686930548  , 0.232465700947  , -0.366497642318  , 0.48722386984  , 0.324024762419  , -0.395097681441 );\n",
      "                        u[6] = dot(x,   0.250359328759  , 0.397548716078  , 0.072984407596  , -0.429030234541  , 0.628947330804  , -0.361086977528  , 0.084502668414  , -0.131378091756  , -0.139819057583  , 0.141324930051 );\n",
      "                        u[7] = dot(x,   0.463705184412  , -0.04591414469  , -0.364923925405  , -0.003481400819  , -0.441961516136  , -0.364586371983  , -0.241849405612  , -0.036529423854  , -0.14163627196  , 0.491475564057 );\n",
      "                        u[8] = dot(x,   0.462370623776  , -0.390771785439  , 0.472810353786  , 0.302632477593  , 0.182998306522  , -0.055781675788  , -0.333790146591  , -0.212129547489  , -0.251772699672  , -0.248938739672 );\n",
      "                        u[9] = dot(x,   -0.31965285122  , -0.106259961189  , -0.079801262485  , -0.28137338872  , 0.16995862829  , 0.397691595454  , -0.568083299341  , 0.080455668982  , -0.458814482176  , 0.272478679606 );\n",
      "                        memcpy(dest != NULL ? dest : x, u, sizeof(float) * 10);\n",
      "                    }\n",
      "\n",
      "                protected:\n",
      "                    /**\n",
      "                    * Compute dot product with varargs\n",
      "                    */\n",
      "                    float dot(float *x, ...) {\n",
      "                        va_list w;\n",
      "                        va_start(w, 10);\n",
      "                        static float mean[] = {  0.024045384013 , 0.056746578137 , 0.082022533249 , 0.029367091624 , 0.047288394223 , -0.167179224322 , 0.073809661663 , -0.15537367687 , 0.013718073588 , 0.044784756292  };\n",
      "                        float dot = 0.0;\n",
      "\n",
      "                        for (uint16_t i = 0; i < 10; i++) {\n",
      "                            dot += (x[i] - mean[i]) * va_arg(w, double);\n",
      "                        }\n",
      "\n",
      "                        return dot;\n",
      "                    }\n",
      "                };\n",
      "            }\n",
      "        }\n",
      "    }\n"
     ]
    }
   ],
   "source": [
    "print(port(pca))"
   ]
  },
  {
   "cell_type": "code",
   "execution_count": 10,
   "id": "82f4477d-8dc5-4346-af4d-f2b524d62342",
   "metadata": {},
   "outputs": [],
   "source": [
    "with open('microml_model.h', 'w+') as f:\n",
    "    f.write(port(pca))"
   ]
  },
  {
   "cell_type": "code",
   "execution_count": null,
   "id": "32be9a0c-b194-4c60-ba20-fb7d9e71d8b4",
   "metadata": {},
   "outputs": [],
   "source": []
  }
 ],
 "metadata": {
  "kernelspec": {
   "display_name": "Python 3 (ipykernel)",
   "language": "python",
   "name": "python3"
  },
  "language_info": {
   "codemirror_mode": {
    "name": "ipython",
    "version": 3
   },
   "file_extension": ".py",
   "mimetype": "text/x-python",
   "name": "python",
   "nbconvert_exporter": "python",
   "pygments_lexer": "ipython3",
   "version": "3.8.11"
  }
 },
 "nbformat": 4,
 "nbformat_minor": 5
}
